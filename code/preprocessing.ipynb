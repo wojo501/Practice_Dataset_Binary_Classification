{
 "cells": [
  {
   "cell_type": "markdown",
   "id": "9f6213cf",
   "metadata": {},
   "source": [
    "# 1. IMPORTING"
   ]
  },
  {
   "cell_type": "code",
   "execution_count": 1,
   "id": "29cee7a1",
   "metadata": {},
   "outputs": [],
   "source": [
    "#import libraries\n",
    "import numpy as np\n",
    "import pandas as pd\n",
    "import seaborn as sb\n",
    "import os\n",
    "\n",
    "from matplotlib import pyplot as plt\n",
    "from sklearn.model_selection import train_test_split\n",
    "from sklearn.preprocessing import StandardScaler\n",
    "from fast_ml.feature_selection import get_duplicate_features\n",
    "from fast_ml.feature_selection import get_constant_features\n",
    "\n",
    "# importing ROC-AUC score to valuate models\n",
    "from sklearn.metrics import roc_auc_score\n",
    "\n",
    "# importing ROC curve to visualize ROC curve\n",
    "from sklearn.metrics import roc_curve\n",
    "\n",
    "# confusion matrix to show TP, TN, FP, FN\n",
    "from sklearn.metrics import confusion_matrix, ConfusionMatrixDisplay\n",
    "\n",
    "# classification report to describe model accuracy\n",
    "from sklearn.metrics import classification_report"
   ]
  },
  {
   "cell_type": "code",
   "execution_count": 2,
   "id": "8ba29b57",
   "metadata": {},
   "outputs": [],
   "source": [
    "#import dataset\n",
    "df = pd.read_csv(\"../data/source/dataset.csv\")"
   ]
  },
  {
   "cell_type": "markdown",
   "id": "fb8c0d90",
   "metadata": {},
   "source": [
    "# 2. SPLITTING"
   ]
  },
  {
   "cell_type": "code",
   "execution_count": 3,
   "id": "1cdc7bdd",
   "metadata": {},
   "outputs": [],
   "source": [
    "# data on which we base\n",
    "X = df.drop(columns=['target'])\n",
    "\n",
    "# data which we predict\n",
    "y = df['target']"
   ]
  },
  {
   "cell_type": "code",
   "execution_count": 4,
   "id": "06ff3d28",
   "metadata": {},
   "outputs": [],
   "source": [
    "# getting train and test sets\n",
    "X_train, X_test, y_train, y_test = train_test_split(\n",
    "    X, y, stratify=y, test_size=0.3, random_state=42\n",
    ")\n",
    "\n",
    "# getting test and validation sets\n",
    "X_test, X_val, y_test, y_val = train_test_split(\n",
    "    X_test, y_test, stratify=y_test, test_size=0.3, random_state=42\n",
    ")"
   ]
  },
  {
   "cell_type": "code",
   "execution_count": 5,
   "id": "91f5e11c",
   "metadata": {},
   "outputs": [
    {
     "name": "stdout",
     "output_type": "stream",
     "text": [
      "(50000, 300) (35000, 300) (10500, 300) (4500, 300)\n"
     ]
    }
   ],
   "source": [
    "# checking shapes of X's\n",
    "print(X.shape, X_train.shape, X_test.shape, X_val.shape)"
   ]
  },
  {
   "cell_type": "code",
   "execution_count": 6,
   "id": "61b4ea21",
   "metadata": {},
   "outputs": [
    {
     "name": "stdout",
     "output_type": "stream",
     "text": [
      "(50000,) (35000,) (10500,) (4500,)\n"
     ]
    }
   ],
   "source": [
    "# checking shapes of y's\n",
    "print(y.shape, y_train.shape, y_test.shape, y_val.shape)"
   ]
  },
  {
   "cell_type": "markdown",
   "id": "67f54ee0",
   "metadata": {},
   "source": [
    "# EXPORTING"
   ]
  },
  {
   "cell_type": "code",
   "execution_count": 7,
   "id": "3fe5a2c7",
   "metadata": {},
   "outputs": [],
   "source": [
    "# exporting data\n",
    "relative_path = \"../data/validation\"\n",
    "\n",
    "if not os.path.exists(relative_path):\n",
    "    os.makedirs(relative_path)\n",
    "\n",
    "X_train.to_csv(relative_path + '/train_X.csv', encoding='utf-8')\n",
    "X_test.to_csv(relative_path + '/test_X.csv', encoding='utf-8')\n",
    "X_val.to_csv(relative_path + '/val_X.csv', encoding='utf-8')\n",
    "\n",
    "y_train.to_csv(relative_path + '/train_y.csv', encoding='utf-8')\n",
    "y_test.to_csv(relative_path + '/test_y.csv', encoding='utf-8')\n",
    "y_val.to_csv(relative_path + '/val_y.csv', encoding='utf-8')"
   ]
  },
  {
   "cell_type": "markdown",
   "id": "f8ae7752",
   "metadata": {},
   "source": [
    "# 3. DATASET INFO"
   ]
  },
  {
   "cell_type": "code",
   "execution_count": 8,
   "id": "d8d77fde",
   "metadata": {
    "scrolled": true
   },
   "outputs": [
    {
     "data": {
      "text/html": [
       "<div>\n",
       "<style scoped>\n",
       "    .dataframe tbody tr th:only-of-type {\n",
       "        vertical-align: middle;\n",
       "    }\n",
       "\n",
       "    .dataframe tbody tr th {\n",
       "        vertical-align: top;\n",
       "    }\n",
       "\n",
       "    .dataframe thead th {\n",
       "        text-align: right;\n",
       "    }\n",
       "</style>\n",
       "<table border=\"1\" class=\"dataframe\">\n",
       "  <thead>\n",
       "    <tr style=\"text-align: right;\">\n",
       "      <th></th>\n",
       "      <th>var_1</th>\n",
       "      <th>var_2</th>\n",
       "      <th>var_3</th>\n",
       "      <th>var_4</th>\n",
       "      <th>var_5</th>\n",
       "      <th>var_6</th>\n",
       "      <th>var_7</th>\n",
       "      <th>var_8</th>\n",
       "      <th>var_9</th>\n",
       "      <th>var_10</th>\n",
       "      <th>...</th>\n",
       "      <th>var_291</th>\n",
       "      <th>var_292</th>\n",
       "      <th>var_293</th>\n",
       "      <th>var_294</th>\n",
       "      <th>var_295</th>\n",
       "      <th>var_296</th>\n",
       "      <th>var_297</th>\n",
       "      <th>var_298</th>\n",
       "      <th>var_299</th>\n",
       "      <th>var_300</th>\n",
       "    </tr>\n",
       "  </thead>\n",
       "  <tbody>\n",
       "    <tr>\n",
       "      <th>13889</th>\n",
       "      <td>0</td>\n",
       "      <td>0</td>\n",
       "      <td>0.0</td>\n",
       "      <td>2.88</td>\n",
       "      <td>0.0</td>\n",
       "      <td>0</td>\n",
       "      <td>0</td>\n",
       "      <td>0</td>\n",
       "      <td>0</td>\n",
       "      <td>0</td>\n",
       "      <td>...</td>\n",
       "      <td>0</td>\n",
       "      <td>0.0</td>\n",
       "      <td>0</td>\n",
       "      <td>0</td>\n",
       "      <td>0</td>\n",
       "      <td>0</td>\n",
       "      <td>0</td>\n",
       "      <td>0</td>\n",
       "      <td>0.0</td>\n",
       "      <td>0.0</td>\n",
       "    </tr>\n",
       "    <tr>\n",
       "      <th>18173</th>\n",
       "      <td>0</td>\n",
       "      <td>0</td>\n",
       "      <td>0.0</td>\n",
       "      <td>2.91</td>\n",
       "      <td>0.0</td>\n",
       "      <td>0</td>\n",
       "      <td>0</td>\n",
       "      <td>0</td>\n",
       "      <td>0</td>\n",
       "      <td>0</td>\n",
       "      <td>...</td>\n",
       "      <td>0</td>\n",
       "      <td>0.0</td>\n",
       "      <td>0</td>\n",
       "      <td>0</td>\n",
       "      <td>0</td>\n",
       "      <td>0</td>\n",
       "      <td>0</td>\n",
       "      <td>0</td>\n",
       "      <td>0.0</td>\n",
       "      <td>0.0</td>\n",
       "    </tr>\n",
       "    <tr>\n",
       "      <th>11779</th>\n",
       "      <td>0</td>\n",
       "      <td>0</td>\n",
       "      <td>0.0</td>\n",
       "      <td>2.82</td>\n",
       "      <td>0.0</td>\n",
       "      <td>0</td>\n",
       "      <td>0</td>\n",
       "      <td>0</td>\n",
       "      <td>0</td>\n",
       "      <td>0</td>\n",
       "      <td>...</td>\n",
       "      <td>0</td>\n",
       "      <td>0.0</td>\n",
       "      <td>0</td>\n",
       "      <td>0</td>\n",
       "      <td>0</td>\n",
       "      <td>0</td>\n",
       "      <td>0</td>\n",
       "      <td>0</td>\n",
       "      <td>0.0</td>\n",
       "      <td>0.0</td>\n",
       "    </tr>\n",
       "    <tr>\n",
       "      <th>28068</th>\n",
       "      <td>0</td>\n",
       "      <td>0</td>\n",
       "      <td>0.0</td>\n",
       "      <td>5.82</td>\n",
       "      <td>0.0</td>\n",
       "      <td>0</td>\n",
       "      <td>0</td>\n",
       "      <td>0</td>\n",
       "      <td>0</td>\n",
       "      <td>0</td>\n",
       "      <td>...</td>\n",
       "      <td>0</td>\n",
       "      <td>0.0</td>\n",
       "      <td>0</td>\n",
       "      <td>0</td>\n",
       "      <td>0</td>\n",
       "      <td>0</td>\n",
       "      <td>0</td>\n",
       "      <td>0</td>\n",
       "      <td>0.0</td>\n",
       "      <td>0.0</td>\n",
       "    </tr>\n",
       "    <tr>\n",
       "      <th>26232</th>\n",
       "      <td>0</td>\n",
       "      <td>0</td>\n",
       "      <td>0.0</td>\n",
       "      <td>0.00</td>\n",
       "      <td>0.0</td>\n",
       "      <td>0</td>\n",
       "      <td>0</td>\n",
       "      <td>0</td>\n",
       "      <td>0</td>\n",
       "      <td>0</td>\n",
       "      <td>...</td>\n",
       "      <td>0</td>\n",
       "      <td>0.0</td>\n",
       "      <td>0</td>\n",
       "      <td>0</td>\n",
       "      <td>0</td>\n",
       "      <td>0</td>\n",
       "      <td>0</td>\n",
       "      <td>0</td>\n",
       "      <td>0.0</td>\n",
       "      <td>0.0</td>\n",
       "    </tr>\n",
       "  </tbody>\n",
       "</table>\n",
       "<p>5 rows × 300 columns</p>\n",
       "</div>"
      ],
      "text/plain": [
       "       var_1  var_2  var_3  var_4  var_5  var_6  var_7  var_8  var_9  var_10  \\\n",
       "13889      0      0    0.0   2.88    0.0      0      0      0      0       0   \n",
       "18173      0      0    0.0   2.91    0.0      0      0      0      0       0   \n",
       "11779      0      0    0.0   2.82    0.0      0      0      0      0       0   \n",
       "28068      0      0    0.0   5.82    0.0      0      0      0      0       0   \n",
       "26232      0      0    0.0   0.00    0.0      0      0      0      0       0   \n",
       "\n",
       "       ...  var_291  var_292  var_293  var_294  var_295  var_296  var_297  \\\n",
       "13889  ...        0      0.0        0        0        0        0        0   \n",
       "18173  ...        0      0.0        0        0        0        0        0   \n",
       "11779  ...        0      0.0        0        0        0        0        0   \n",
       "28068  ...        0      0.0        0        0        0        0        0   \n",
       "26232  ...        0      0.0        0        0        0        0        0   \n",
       "\n",
       "       var_298  var_299  var_300  \n",
       "13889        0      0.0      0.0  \n",
       "18173        0      0.0      0.0  \n",
       "11779        0      0.0      0.0  \n",
       "28068        0      0.0      0.0  \n",
       "26232        0      0.0      0.0  \n",
       "\n",
       "[5 rows x 300 columns]"
      ]
     },
     "execution_count": 8,
     "metadata": {},
     "output_type": "execute_result"
    }
   ],
   "source": [
    "# first five rows\n",
    "X_train.head()"
   ]
  },
  {
   "cell_type": "code",
   "execution_count": 9,
   "id": "266ec0a4",
   "metadata": {},
   "outputs": [
    {
     "data": {
      "text/plain": [
       "13889    0\n",
       "18173    0\n",
       "11779    0\n",
       "28068    0\n",
       "26232    0\n",
       "Name: target, dtype: int64"
      ]
     },
     "execution_count": 9,
     "metadata": {},
     "output_type": "execute_result"
    }
   ],
   "source": [
    "y_train.head()"
   ]
  },
  {
   "cell_type": "code",
   "execution_count": 10,
   "id": "63db5579",
   "metadata": {},
   "outputs": [
    {
     "data": {
      "text/plain": [
       "(35000, 300)"
      ]
     },
     "execution_count": 10,
     "metadata": {},
     "output_type": "execute_result"
    }
   ],
   "source": [
    "# shape\n",
    "X_train.shape"
   ]
  },
  {
   "cell_type": "code",
   "execution_count": 11,
   "id": "9dd04d8a",
   "metadata": {},
   "outputs": [
    {
     "name": "stdout",
     "output_type": "stream",
     "text": [
      "<class 'pandas.core.frame.DataFrame'>\n",
      "Int64Index: 35000 entries, 13889 to 47738\n",
      "Data columns (total 300 columns):\n",
      " #    Column   Non-Null Count  Dtype  \n",
      "---   ------   --------------  -----  \n",
      " 0    var_1    35000 non-null  int64  \n",
      " 1    var_2    35000 non-null  int64  \n",
      " 2    var_3    35000 non-null  float64\n",
      " 3    var_4    35000 non-null  float64\n",
      " 4    var_5    35000 non-null  float64\n",
      " 5    var_6    35000 non-null  int64  \n",
      " 6    var_7    35000 non-null  int64  \n",
      " 7    var_8    35000 non-null  int64  \n",
      " 8    var_9    35000 non-null  int64  \n",
      " 9    var_10   35000 non-null  int64  \n",
      " 10   var_11   35000 non-null  float64\n",
      " 11   var_12   35000 non-null  float64\n",
      " 12   var_13   35000 non-null  float64\n",
      " 13   var_14   35000 non-null  int64  \n",
      " 14   var_15   35000 non-null  int64  \n",
      " 15   var_16   35000 non-null  float64\n",
      " 16   var_17   35000 non-null  float64\n",
      " 17   var_18   35000 non-null  float64\n",
      " 18   var_19   35000 non-null  int64  \n",
      " 19   var_20   35000 non-null  int64  \n",
      " 20   var_21   35000 non-null  float64\n",
      " 21   var_22   35000 non-null  float64\n",
      " 22   var_23   35000 non-null  int64  \n",
      " 23   var_24   35000 non-null  int64  \n",
      " 24   var_25   35000 non-null  int64  \n",
      " 25   var_26   35000 non-null  float64\n",
      " 26   var_27   35000 non-null  float64\n",
      " 27   var_28   35000 non-null  int64  \n",
      " 28   var_29   35000 non-null  float64\n",
      " 29   var_30   35000 non-null  float64\n",
      " 30   var_31   35000 non-null  int64  \n",
      " 31   var_32   35000 non-null  float64\n",
      " 32   var_33   35000 non-null  int64  \n",
      " 33   var_34   35000 non-null  int64  \n",
      " 34   var_35   35000 non-null  float64\n",
      " 35   var_36   35000 non-null  int64  \n",
      " 36   var_37   35000 non-null  int64  \n",
      " 37   var_38   35000 non-null  int64  \n",
      " 38   var_39   35000 non-null  float64\n",
      " 39   var_40   35000 non-null  float64\n",
      " 40   var_41   35000 non-null  float64\n",
      " 41   var_42   35000 non-null  float64\n",
      " 42   var_43   35000 non-null  int64  \n",
      " 43   var_44   35000 non-null  int64  \n",
      " 44   var_45   35000 non-null  int64  \n",
      " 45   var_46   35000 non-null  float64\n",
      " 46   var_47   35000 non-null  float64\n",
      " 47   var_48   35000 non-null  float64\n",
      " 48   var_49   35000 non-null  int64  \n",
      " 49   var_50   35000 non-null  float64\n",
      " 50   var_51   35000 non-null  int64  \n",
      " 51   var_52   35000 non-null  int64  \n",
      " 52   var_53   35000 non-null  int64  \n",
      " 53   var_54   35000 non-null  int64  \n",
      " 54   var_55   35000 non-null  float64\n",
      " 55   var_56   35000 non-null  int64  \n",
      " 56   var_57   35000 non-null  float64\n",
      " 57   var_58   35000 non-null  int64  \n",
      " 58   var_59   35000 non-null  int64  \n",
      " 59   var_60   35000 non-null  int64  \n",
      " 60   var_61   35000 non-null  int64  \n",
      " 61   var_62   35000 non-null  int64  \n",
      " 62   var_63   35000 non-null  int64  \n",
      " 63   var_64   35000 non-null  float64\n",
      " 64   var_65   35000 non-null  float64\n",
      " 65   var_66   35000 non-null  int64  \n",
      " 66   var_67   35000 non-null  int64  \n",
      " 67   var_68   35000 non-null  int64  \n",
      " 68   var_69   35000 non-null  int64  \n",
      " 69   var_70   35000 non-null  int64  \n",
      " 70   var_71   35000 non-null  int64  \n",
      " 71   var_72   35000 non-null  int64  \n",
      " 72   var_73   35000 non-null  int64  \n",
      " 73   var_74   35000 non-null  int64  \n",
      " 74   var_75   35000 non-null  float64\n",
      " 75   var_76   35000 non-null  float64\n",
      " 76   var_77   35000 non-null  float64\n",
      " 77   var_78   35000 non-null  float64\n",
      " 78   var_79   35000 non-null  float64\n",
      " 79   var_80   35000 non-null  int64  \n",
      " 80   var_81   35000 non-null  int64  \n",
      " 81   var_82   35000 non-null  int64  \n",
      " 82   var_83   35000 non-null  int64  \n",
      " 83   var_84   35000 non-null  int64  \n",
      " 84   var_85   35000 non-null  float64\n",
      " 85   var_86   35000 non-null  float64\n",
      " 86   var_87   35000 non-null  int64  \n",
      " 87   var_88   35000 non-null  int64  \n",
      " 88   var_89   35000 non-null  float64\n",
      " 89   var_90   35000 non-null  float64\n",
      " 90   var_91   35000 non-null  float64\n",
      " 91   var_92   35000 non-null  int64  \n",
      " 92   var_93   35000 non-null  float64\n",
      " 93   var_94   35000 non-null  int64  \n",
      " 94   var_95   35000 non-null  int64  \n",
      " 95   var_96   35000 non-null  float64\n",
      " 96   var_97   35000 non-null  int64  \n",
      " 97   var_98   35000 non-null  float64\n",
      " 98   var_99   35000 non-null  int64  \n",
      " 99   var_100  35000 non-null  float64\n",
      " 100  var_101  35000 non-null  float64\n",
      " 101  var_102  35000 non-null  float64\n",
      " 102  var_103  35000 non-null  int64  \n",
      " 103  var_104  35000 non-null  int64  \n",
      " 104  var_105  35000 non-null  float64\n",
      " 105  var_106  35000 non-null  int64  \n",
      " 106  var_107  35000 non-null  int64  \n",
      " 107  var_108  35000 non-null  float64\n",
      " 108  var_109  35000 non-null  float64\n",
      " 109  var_110  35000 non-null  float64\n",
      " 110  var_111  35000 non-null  int64  \n",
      " 111  var_112  35000 non-null  int64  \n",
      " 112  var_113  35000 non-null  int64  \n",
      " 113  var_114  35000 non-null  int64  \n",
      " 114  var_115  35000 non-null  float64\n",
      " 115  var_116  35000 non-null  int64  \n",
      " 116  var_117  35000 non-null  int64  \n",
      " 117  var_118  35000 non-null  float64\n",
      " 118  var_119  35000 non-null  float64\n",
      " 119  var_120  35000 non-null  int64  \n",
      " 120  var_121  35000 non-null  int64  \n",
      " 121  var_122  35000 non-null  int64  \n",
      " 122  var_123  35000 non-null  int64  \n",
      " 123  var_124  35000 non-null  int64  \n",
      " 124  var_125  35000 non-null  float64\n",
      " 125  var_126  35000 non-null  float64\n",
      " 126  var_127  35000 non-null  int64  \n",
      " 127  var_128  35000 non-null  float64\n",
      " 128  var_129  35000 non-null  int64  \n",
      " 129  var_130  35000 non-null  float64\n",
      " 130  var_131  35000 non-null  float64\n",
      " 131  var_132  35000 non-null  int64  \n",
      " 132  var_133  35000 non-null  int64  \n",
      " 133  var_134  35000 non-null  float64\n",
      " 134  var_135  35000 non-null  int64  \n",
      " 135  var_136  35000 non-null  float64\n",
      " 136  var_137  35000 non-null  int64  \n",
      " 137  var_138  35000 non-null  float64\n",
      " 138  var_139  35000 non-null  float64\n",
      " 139  var_140  35000 non-null  float64\n",
      " 140  var_141  35000 non-null  int64  \n",
      " 141  var_142  35000 non-null  float64\n",
      " 142  var_143  35000 non-null  int64  \n",
      " 143  var_144  35000 non-null  float64\n",
      " 144  var_145  35000 non-null  float64\n",
      " 145  var_146  35000 non-null  int64  \n",
      " 146  var_147  35000 non-null  float64\n",
      " 147  var_148  35000 non-null  int64  \n",
      " 148  var_149  35000 non-null  int64  \n",
      " 149  var_150  35000 non-null  float64\n",
      " 150  var_151  35000 non-null  int64  \n",
      " 151  var_152  35000 non-null  int64  \n",
      " 152  var_153  35000 non-null  float64\n",
      " 153  var_154  35000 non-null  float64\n",
      " 154  var_155  35000 non-null  int64  \n",
      " 155  var_156  35000 non-null  float64\n",
      " 156  var_157  35000 non-null  float64\n",
      " 157  var_158  35000 non-null  int64  \n",
      " 158  var_159  35000 non-null  int64  \n",
      " 159  var_160  35000 non-null  int64  \n",
      " 160  var_161  35000 non-null  float64\n",
      " 161  var_162  35000 non-null  int64  \n",
      " 162  var_163  35000 non-null  int64  \n",
      " 163  var_164  35000 non-null  int64  \n",
      " 164  var_165  35000 non-null  float64\n",
      " 165  var_166  35000 non-null  float64\n",
      " 166  var_167  35000 non-null  int64  \n",
      " 167  var_168  35000 non-null  int64  \n",
      " 168  var_169  35000 non-null  int64  \n",
      " 169  var_170  35000 non-null  int64  \n",
      " 170  var_171  35000 non-null  int64  \n",
      " 171  var_172  35000 non-null  int64  \n",
      " 172  var_173  35000 non-null  float64\n",
      " 173  var_174  35000 non-null  int64  \n",
      " 174  var_175  35000 non-null  int64  \n",
      " 175  var_176  35000 non-null  int64  \n",
      " 176  var_177  35000 non-null  int64  \n",
      " 177  var_178  35000 non-null  float64\n",
      " 178  var_179  35000 non-null  int64  \n",
      " 179  var_180  35000 non-null  float64\n",
      " 180  var_181  35000 non-null  int64  \n",
      " 181  var_182  35000 non-null  int64  \n",
      " 182  var_183  35000 non-null  int64  \n",
      " 183  var_184  35000 non-null  float64\n",
      " 184  var_185  35000 non-null  float64\n",
      " 185  var_186  35000 non-null  float64\n",
      " 186  var_187  35000 non-null  int64  \n",
      " 187  var_188  35000 non-null  float64\n",
      " 188  var_189  35000 non-null  int64  \n",
      " 189  var_190  35000 non-null  float64\n",
      " 190  var_191  35000 non-null  float64\n",
      " 191  var_192  35000 non-null  float64\n",
      " 192  var_193  35000 non-null  float64\n",
      " 193  var_194  35000 non-null  int64  \n",
      " 194  var_195  35000 non-null  int64  \n",
      " 195  var_196  35000 non-null  int64  \n",
      " 196  var_197  35000 non-null  int64  \n",
      " 197  var_198  35000 non-null  int64  \n",
      " 198  var_199  35000 non-null  int64  \n",
      " 199  var_200  35000 non-null  float64\n",
      " 200  var_201  35000 non-null  int64  \n",
      " 201  var_202  35000 non-null  int64  \n",
      " 202  var_203  35000 non-null  float64\n",
      " 203  var_204  35000 non-null  float64\n",
      " 204  var_205  35000 non-null  float64\n",
      " 205  var_206  35000 non-null  int64  \n",
      " 206  var_207  35000 non-null  float64\n",
      " 207  var_208  35000 non-null  float64\n",
      " 208  var_209  35000 non-null  int64  \n",
      " 209  var_210  35000 non-null  float64\n",
      " 210  var_211  35000 non-null  int64  \n",
      " 211  var_212  35000 non-null  int64  \n",
      " 212  var_213  35000 non-null  float64\n",
      " 213  var_214  35000 non-null  float64\n",
      " 214  var_215  35000 non-null  int64  \n",
      " 215  var_216  35000 non-null  int64  \n",
      " 216  var_217  35000 non-null  int64  \n",
      " 217  var_218  35000 non-null  int64  \n",
      " 218  var_219  35000 non-null  int64  \n",
      " 219  var_220  35000 non-null  float64\n",
      " 220  var_221  35000 non-null  int64  \n",
      " 221  var_222  35000 non-null  float64\n",
      " 222  var_223  35000 non-null  int64  \n",
      " 223  var_224  35000 non-null  int64  \n",
      " 224  var_225  35000 non-null  int64  \n",
      " 225  var_226  35000 non-null  int64  \n",
      " 226  var_227  35000 non-null  float64\n",
      " 227  var_228  35000 non-null  float64\n",
      " 228  var_229  35000 non-null  int64  \n",
      " 229  var_230  35000 non-null  int64  \n",
      " 230  var_231  35000 non-null  float64\n",
      " 231  var_232  35000 non-null  int64  \n",
      " 232  var_233  35000 non-null  int64  \n",
      " 233  var_234  35000 non-null  int64  \n",
      " 234  var_235  35000 non-null  int64  \n",
      " 235  var_236  35000 non-null  int64  \n",
      " 236  var_237  35000 non-null  float64\n",
      " 237  var_238  35000 non-null  int64  \n",
      " 238  var_239  35000 non-null  int64  \n",
      " 239  var_240  35000 non-null  float64\n",
      " 240  var_241  35000 non-null  int64  \n",
      " 241  var_242  35000 non-null  float64\n",
      " 242  var_243  35000 non-null  float64\n",
      " 243  var_244  35000 non-null  float64\n",
      " 244  var_245  35000 non-null  int64  \n",
      " 245  var_246  35000 non-null  float64\n",
      " 246  var_247  35000 non-null  int64  \n",
      " 247  var_248  35000 non-null  int64  \n",
      " 248  var_249  35000 non-null  int64  \n",
      " 249  var_250  35000 non-null  int64  \n",
      " 250  var_251  35000 non-null  int64  \n",
      " 251  var_252  35000 non-null  int64  \n",
      " 252  var_253  35000 non-null  float64\n",
      " 253  var_254  35000 non-null  float64\n",
      " 254  var_255  35000 non-null  float64\n",
      " 255  var_256  35000 non-null  int64  \n",
      " 256  var_257  35000 non-null  float64\n",
      " 257  var_258  35000 non-null  int64  \n",
      " 258  var_259  35000 non-null  int64  \n",
      " 259  var_260  35000 non-null  int64  \n",
      " 260  var_261  35000 non-null  float64\n",
      " 261  var_262  35000 non-null  int64  \n",
      " 262  var_263  35000 non-null  int64  \n",
      " 263  var_264  35000 non-null  float64\n",
      " 264  var_265  35000 non-null  float64\n",
      " 265  var_266  35000 non-null  float64\n",
      " 266  var_267  35000 non-null  int64  \n",
      " 267  var_268  35000 non-null  float64\n",
      " 268  var_269  35000 non-null  int64  \n",
      " 269  var_270  35000 non-null  int64  \n",
      " 270  var_271  35000 non-null  float64\n",
      " 271  var_272  35000 non-null  float64\n",
      " 272  var_273  35000 non-null  int64  \n",
      " 273  var_274  35000 non-null  int64  \n",
      " 274  var_275  35000 non-null  int64  \n",
      " 275  var_276  35000 non-null  float64\n",
      " 276  var_277  35000 non-null  float64\n",
      " 277  var_278  35000 non-null  int64  \n",
      " 278  var_279  35000 non-null  float64\n",
      " 279  var_280  35000 non-null  float64\n",
      " 280  var_281  35000 non-null  int64  \n",
      " 281  var_282  35000 non-null  int64  \n",
      " 282  var_283  35000 non-null  float64\n",
      " 283  var_284  35000 non-null  int64  \n",
      " 284  var_285  35000 non-null  int64  \n",
      " 285  var_286  35000 non-null  float64\n",
      " 286  var_287  35000 non-null  int64  \n",
      " 287  var_288  35000 non-null  float64\n",
      " 288  var_289  35000 non-null  int64  \n",
      " 289  var_290  35000 non-null  float64\n",
      " 290  var_291  35000 non-null  int64  \n",
      " 291  var_292  35000 non-null  float64\n",
      " 292  var_293  35000 non-null  int64  \n",
      " 293  var_294  35000 non-null  int64  \n",
      " 294  var_295  35000 non-null  int64  \n",
      " 295  var_296  35000 non-null  int64  \n",
      " 296  var_297  35000 non-null  int64  \n",
      " 297  var_298  35000 non-null  int64  \n",
      " 298  var_299  35000 non-null  float64\n",
      " 299  var_300  35000 non-null  float64\n",
      "dtypes: float64(127), int64(173)\n",
      "memory usage: 80.4 MB\n"
     ]
    }
   ],
   "source": [
    "# info\n",
    "X_train.info(verbose=True, show_counts=True)"
   ]
  },
  {
   "cell_type": "code",
   "execution_count": 12,
   "id": "cdb4abb0",
   "metadata": {
    "scrolled": false
   },
   "outputs": [
    {
     "data": {
      "text/html": [
       "<div>\n",
       "<style scoped>\n",
       "    .dataframe tbody tr th:only-of-type {\n",
       "        vertical-align: middle;\n",
       "    }\n",
       "\n",
       "    .dataframe tbody tr th {\n",
       "        vertical-align: top;\n",
       "    }\n",
       "\n",
       "    .dataframe thead th {\n",
       "        text-align: right;\n",
       "    }\n",
       "</style>\n",
       "<table border=\"1\" class=\"dataframe\">\n",
       "  <thead>\n",
       "    <tr style=\"text-align: right;\">\n",
       "      <th></th>\n",
       "      <th>var_1</th>\n",
       "      <th>var_2</th>\n",
       "      <th>var_3</th>\n",
       "      <th>var_4</th>\n",
       "      <th>var_5</th>\n",
       "      <th>var_6</th>\n",
       "      <th>var_7</th>\n",
       "      <th>var_8</th>\n",
       "      <th>var_9</th>\n",
       "      <th>var_10</th>\n",
       "      <th>...</th>\n",
       "      <th>var_291</th>\n",
       "      <th>var_292</th>\n",
       "      <th>var_293</th>\n",
       "      <th>var_294</th>\n",
       "      <th>var_295</th>\n",
       "      <th>var_296</th>\n",
       "      <th>var_297</th>\n",
       "      <th>var_298</th>\n",
       "      <th>var_299</th>\n",
       "      <th>var_300</th>\n",
       "    </tr>\n",
       "  </thead>\n",
       "  <tbody>\n",
       "    <tr>\n",
       "      <th>count</th>\n",
       "      <td>35000.000000</td>\n",
       "      <td>35000.000000</td>\n",
       "      <td>35000.000000</td>\n",
       "      <td>35000.000000</td>\n",
       "      <td>35000.000000</td>\n",
       "      <td>3.500000e+04</td>\n",
       "      <td>35000.000000</td>\n",
       "      <td>35000.000000</td>\n",
       "      <td>35000.000000</td>\n",
       "      <td>35000.000000</td>\n",
       "      <td>...</td>\n",
       "      <td>35000.000000</td>\n",
       "      <td>35000.000000</td>\n",
       "      <td>35000.000000</td>\n",
       "      <td>35000.0</td>\n",
       "      <td>35000.000000</td>\n",
       "      <td>35000.000000</td>\n",
       "      <td>35000.0</td>\n",
       "      <td>35000.000000</td>\n",
       "      <td>35000.000000</td>\n",
       "      <td>3.500000e+04</td>\n",
       "    </tr>\n",
       "    <tr>\n",
       "      <th>mean</th>\n",
       "      <td>0.002229</td>\n",
       "      <td>0.000029</td>\n",
       "      <td>16.754658</td>\n",
       "      <td>3.152425</td>\n",
       "      <td>623.621139</td>\n",
       "      <td>5.714286e+03</td>\n",
       "      <td>0.000257</td>\n",
       "      <td>0.033257</td>\n",
       "      <td>0.000257</td>\n",
       "      <td>0.000257</td>\n",
       "      <td>...</td>\n",
       "      <td>0.006686</td>\n",
       "      <td>0.083938</td>\n",
       "      <td>0.010114</td>\n",
       "      <td>0.0</td>\n",
       "      <td>0.128229</td>\n",
       "      <td>0.085200</td>\n",
       "      <td>0.0</td>\n",
       "      <td>0.003343</td>\n",
       "      <td>15.130148</td>\n",
       "      <td>5.643619e+03</td>\n",
       "    </tr>\n",
       "    <tr>\n",
       "      <th>std</th>\n",
       "      <td>0.113369</td>\n",
       "      <td>0.005345</td>\n",
       "      <td>1426.650119</td>\n",
       "      <td>2.745780</td>\n",
       "      <td>10899.867683</td>\n",
       "      <td>7.559181e+05</td>\n",
       "      <td>0.027774</td>\n",
       "      <td>0.314115</td>\n",
       "      <td>0.027774</td>\n",
       "      <td>0.035856</td>\n",
       "      <td>...</td>\n",
       "      <td>0.143274</td>\n",
       "      <td>1.107691</td>\n",
       "      <td>0.212500</td>\n",
       "      <td>0.0</td>\n",
       "      <td>0.608109</td>\n",
       "      <td>0.603805</td>\n",
       "      <td>0.0</td>\n",
       "      <td>0.082914</td>\n",
       "      <td>952.917261</td>\n",
       "      <td>4.711153e+04</td>\n",
       "    </tr>\n",
       "    <tr>\n",
       "      <th>min</th>\n",
       "      <td>0.000000</td>\n",
       "      <td>0.000000</td>\n",
       "      <td>0.000000</td>\n",
       "      <td>0.000000</td>\n",
       "      <td>0.000000</td>\n",
       "      <td>0.000000e+00</td>\n",
       "      <td>0.000000</td>\n",
       "      <td>0.000000</td>\n",
       "      <td>0.000000</td>\n",
       "      <td>0.000000</td>\n",
       "      <td>...</td>\n",
       "      <td>0.000000</td>\n",
       "      <td>0.000000</td>\n",
       "      <td>0.000000</td>\n",
       "      <td>0.0</td>\n",
       "      <td>0.000000</td>\n",
       "      <td>0.000000</td>\n",
       "      <td>0.0</td>\n",
       "      <td>0.000000</td>\n",
       "      <td>0.000000</td>\n",
       "      <td>0.000000e+00</td>\n",
       "    </tr>\n",
       "    <tr>\n",
       "      <th>25%</th>\n",
       "      <td>0.000000</td>\n",
       "      <td>0.000000</td>\n",
       "      <td>0.000000</td>\n",
       "      <td>0.000000</td>\n",
       "      <td>0.000000</td>\n",
       "      <td>0.000000e+00</td>\n",
       "      <td>0.000000</td>\n",
       "      <td>0.000000</td>\n",
       "      <td>0.000000</td>\n",
       "      <td>0.000000</td>\n",
       "      <td>...</td>\n",
       "      <td>0.000000</td>\n",
       "      <td>0.000000</td>\n",
       "      <td>0.000000</td>\n",
       "      <td>0.0</td>\n",
       "      <td>0.000000</td>\n",
       "      <td>0.000000</td>\n",
       "      <td>0.0</td>\n",
       "      <td>0.000000</td>\n",
       "      <td>0.000000</td>\n",
       "      <td>0.000000e+00</td>\n",
       "    </tr>\n",
       "    <tr>\n",
       "      <th>50%</th>\n",
       "      <td>0.000000</td>\n",
       "      <td>0.000000</td>\n",
       "      <td>0.000000</td>\n",
       "      <td>2.850000</td>\n",
       "      <td>0.000000</td>\n",
       "      <td>0.000000e+00</td>\n",
       "      <td>0.000000</td>\n",
       "      <td>0.000000</td>\n",
       "      <td>0.000000</td>\n",
       "      <td>0.000000</td>\n",
       "      <td>...</td>\n",
       "      <td>0.000000</td>\n",
       "      <td>0.000000</td>\n",
       "      <td>0.000000</td>\n",
       "      <td>0.0</td>\n",
       "      <td>0.000000</td>\n",
       "      <td>0.000000</td>\n",
       "      <td>0.0</td>\n",
       "      <td>0.000000</td>\n",
       "      <td>0.000000</td>\n",
       "      <td>0.000000e+00</td>\n",
       "    </tr>\n",
       "    <tr>\n",
       "      <th>75%</th>\n",
       "      <td>0.000000</td>\n",
       "      <td>0.000000</td>\n",
       "      <td>0.000000</td>\n",
       "      <td>3.000000</td>\n",
       "      <td>0.000000</td>\n",
       "      <td>0.000000e+00</td>\n",
       "      <td>0.000000</td>\n",
       "      <td>0.000000</td>\n",
       "      <td>0.000000</td>\n",
       "      <td>0.000000</td>\n",
       "      <td>...</td>\n",
       "      <td>0.000000</td>\n",
       "      <td>0.000000</td>\n",
       "      <td>0.000000</td>\n",
       "      <td>0.0</td>\n",
       "      <td>0.000000</td>\n",
       "      <td>0.000000</td>\n",
       "      <td>0.0</td>\n",
       "      <td>0.000000</td>\n",
       "      <td>0.000000</td>\n",
       "      <td>0.000000e+00</td>\n",
       "    </tr>\n",
       "    <tr>\n",
       "      <th>max</th>\n",
       "      <td>9.000000</td>\n",
       "      <td>1.000000</td>\n",
       "      <td>207901.336500</td>\n",
       "      <td>35.280000</td>\n",
       "      <td>445500.000000</td>\n",
       "      <td>1.000000e+08</td>\n",
       "      <td>3.000000</td>\n",
       "      <td>3.000000</td>\n",
       "      <td>3.000000</td>\n",
       "      <td>6.000000</td>\n",
       "      <td>...</td>\n",
       "      <td>6.000000</td>\n",
       "      <td>74.520000</td>\n",
       "      <td>12.000000</td>\n",
       "      <td>0.0</td>\n",
       "      <td>6.000000</td>\n",
       "      <td>33.000000</td>\n",
       "      <td>0.0</td>\n",
       "      <td>3.000000</td>\n",
       "      <td>134666.681100</td>\n",
       "      <td>2.857673e+06</td>\n",
       "    </tr>\n",
       "  </tbody>\n",
       "</table>\n",
       "<p>8 rows × 300 columns</p>\n",
       "</div>"
      ],
      "text/plain": [
       "              var_1         var_2          var_3         var_4          var_5  \\\n",
       "count  35000.000000  35000.000000   35000.000000  35000.000000   35000.000000   \n",
       "mean       0.002229      0.000029      16.754658      3.152425     623.621139   \n",
       "std        0.113369      0.005345    1426.650119      2.745780   10899.867683   \n",
       "min        0.000000      0.000000       0.000000      0.000000       0.000000   \n",
       "25%        0.000000      0.000000       0.000000      0.000000       0.000000   \n",
       "50%        0.000000      0.000000       0.000000      2.850000       0.000000   \n",
       "75%        0.000000      0.000000       0.000000      3.000000       0.000000   \n",
       "max        9.000000      1.000000  207901.336500     35.280000  445500.000000   \n",
       "\n",
       "              var_6         var_7         var_8         var_9        var_10  \\\n",
       "count  3.500000e+04  35000.000000  35000.000000  35000.000000  35000.000000   \n",
       "mean   5.714286e+03      0.000257      0.033257      0.000257      0.000257   \n",
       "std    7.559181e+05      0.027774      0.314115      0.027774      0.035856   \n",
       "min    0.000000e+00      0.000000      0.000000      0.000000      0.000000   \n",
       "25%    0.000000e+00      0.000000      0.000000      0.000000      0.000000   \n",
       "50%    0.000000e+00      0.000000      0.000000      0.000000      0.000000   \n",
       "75%    0.000000e+00      0.000000      0.000000      0.000000      0.000000   \n",
       "max    1.000000e+08      3.000000      3.000000      3.000000      6.000000   \n",
       "\n",
       "       ...       var_291       var_292       var_293  var_294       var_295  \\\n",
       "count  ...  35000.000000  35000.000000  35000.000000  35000.0  35000.000000   \n",
       "mean   ...      0.006686      0.083938      0.010114      0.0      0.128229   \n",
       "std    ...      0.143274      1.107691      0.212500      0.0      0.608109   \n",
       "min    ...      0.000000      0.000000      0.000000      0.0      0.000000   \n",
       "25%    ...      0.000000      0.000000      0.000000      0.0      0.000000   \n",
       "50%    ...      0.000000      0.000000      0.000000      0.0      0.000000   \n",
       "75%    ...      0.000000      0.000000      0.000000      0.0      0.000000   \n",
       "max    ...      6.000000     74.520000     12.000000      0.0      6.000000   \n",
       "\n",
       "            var_296  var_297       var_298        var_299       var_300  \n",
       "count  35000.000000  35000.0  35000.000000   35000.000000  3.500000e+04  \n",
       "mean       0.085200      0.0      0.003343      15.130148  5.643619e+03  \n",
       "std        0.603805      0.0      0.082914     952.917261  4.711153e+04  \n",
       "min        0.000000      0.0      0.000000       0.000000  0.000000e+00  \n",
       "25%        0.000000      0.0      0.000000       0.000000  0.000000e+00  \n",
       "50%        0.000000      0.0      0.000000       0.000000  0.000000e+00  \n",
       "75%        0.000000      0.0      0.000000       0.000000  0.000000e+00  \n",
       "max       33.000000      0.0      3.000000  134666.681100  2.857673e+06  \n",
       "\n",
       "[8 rows x 300 columns]"
      ]
     },
     "execution_count": 12,
     "metadata": {},
     "output_type": "execute_result"
    }
   ],
   "source": [
    "# description\n",
    "X_train.describe()"
   ]
  },
  {
   "cell_type": "markdown",
   "id": "a0750f9f",
   "metadata": {},
   "source": [
    "# 4. TRANSFORMATIONS"
   ]
  },
  {
   "cell_type": "markdown",
   "id": "625a5c2d",
   "metadata": {},
   "source": [
    "## 4.1. NAs"
   ]
  },
  {
   "cell_type": "code",
   "execution_count": 13,
   "id": "d6ef0462",
   "metadata": {},
   "outputs": [],
   "source": [
    "def nan_handler(df):    \n",
    "    # medians per column\n",
    "    medians_train = {}\n",
    "    \n",
    "    # iterate over every column\n",
    "    for column in df.columns:\n",
    "        # calculate median for given column\n",
    "        medians_train[column] = df[column].median()\n",
    "        \n",
    "        # replace NAs with median\n",
    "        df[column].fillna(medians_train[column], inplace=True)\n",
    "        \n",
    "    print(\"NAs handled\")\n",
    "    return df "
   ]
  },
  {
   "cell_type": "markdown",
   "id": "6e170c6d",
   "metadata": {},
   "source": [
    "## 4.2. OUTLIERS"
   ]
  },
  {
   "cell_type": "code",
   "execution_count": 14,
   "id": "b35deeb0",
   "metadata": {},
   "outputs": [],
   "source": [
    "from scipy.stats import zscore\n",
    "\n",
    "def outliers_handler(df):\n",
    "    # calculate z-scores for each column\n",
    "    z_scores = np.abs(zscore(df))\n",
    "    \n",
    "    # set a threshold for the z-score values\n",
    "    threshold = 2.5\n",
    "    \n",
    "    # define the means_train dictionary\n",
    "    means_train = {}\n",
    "\n",
    "    # loop over each column in X_train\n",
    "    for column in df.columns:\n",
    "        # ientify the rows where the z-score exceeds the threshold  \n",
    "        outliers = z_scores[column] > threshold\n",
    "\n",
    "        # calculate the mean of the column excluding outliers\n",
    "        means_train[column] = np.nanmean(df[column][~outliers])\n",
    "\n",
    "        # replace values that exceed the threshold\n",
    "        if outliers.any():\n",
    "            # values in current columns with outliers\n",
    "            values = df[column].values\n",
    "            \n",
    "            # mean with no outliers\n",
    "            mean = means_train[column]\n",
    "            \n",
    "            # True is written where outlier is\n",
    "            mask = outliers\n",
    "            \n",
    "            # iterate through every outlier in column\n",
    "            for i in np.where(mask)[0]:\n",
    "                if values[i] > mean:\n",
    "                    # find last value greater than mean and within 2.5 std\n",
    "                    replacement_candidates = values[(values > mean) & ~outliers]\n",
    "                    if len(replacement_candidates) > 0:\n",
    "                        replacement = sorted(replacement_candidates)[-1]\n",
    "                    else:\n",
    "                        replacement = mean\n",
    "                else:\n",
    "                    # find last value less than mean and within 2.5 std\n",
    "                    replacement_candidates = values[(values < mean) & ~outliers]\n",
    "                    if len(replacement_candidates) > 0:\n",
    "                        replacement = sorted(replacement_candidates)[0]\n",
    "                    else:\n",
    "                        replacement = mean\n",
    "                df.iloc[i, df.columns.get_loc(column)] = replacement\n",
    "                \n",
    "    print(\"outliers handled\")\n",
    "    return df "
   ]
  },
  {
   "cell_type": "markdown",
   "id": "cd2a753a",
   "metadata": {},
   "source": [
    "## 4.3. STANDARIZATION"
   ]
  },
  {
   "cell_type": "code",
   "execution_count": 15,
   "id": "1416ef72",
   "metadata": {},
   "outputs": [],
   "source": [
    "def standarization_handler(df):    \n",
    "    scaler = StandardScaler()\n",
    "    scaler.fit(df)\n",
    "    scaled = scaler.fit_transform(df)\n",
    "    scaled_df = pd.DataFrame(scaled, columns=df.columns)\n",
    "    \n",
    "    print(\"standarization handled\")\n",
    "    return scaled_df  "
   ]
  },
  {
   "cell_type": "markdown",
   "id": "e0e40094",
   "metadata": {},
   "source": [
    "# 5. FEATURE NUMBER REDUCTION"
   ]
  },
  {
   "cell_type": "markdown",
   "id": "bbeab353",
   "metadata": {},
   "source": [
    "## 5.1. DUPLICATES"
   ]
  },
  {
   "cell_type": "code",
   "execution_count": 16,
   "id": "2f27ded2",
   "metadata": {},
   "outputs": [],
   "source": [
    "def drop_duplicate_features(df):\n",
    "    # retrieve duplicate features object\n",
    "    duplicate_features = get_duplicate_features(df)\n",
    "    \n",
    "    # retrieve names of duplicate features\n",
    "    duplicate_features = duplicate_features[duplicate_features['Desc'] == 'Duplicate Values']['feature2'].tolist()\n",
    "    \n",
    "    # remove duplicates\n",
    "    df.drop(columns = duplicate_features, inplace=True)\n",
    "    \n",
    "    print(\"duplicate features dropped\")\n",
    "    return df"
   ]
  },
  {
   "cell_type": "markdown",
   "id": "61895b24",
   "metadata": {},
   "source": [
    "## 5.2. CONSTANTS"
   ]
  },
  {
   "cell_type": "code",
   "execution_count": 17,
   "id": "b5e3d58a",
   "metadata": {},
   "outputs": [],
   "source": [
    "def drop_constant_features(df):\n",
    "    # retrieve constant features object\n",
    "    constant_features = get_constant_features(df)\n",
    "    \n",
    "    # retrieve names of constant features\n",
    "    constant_features = constant_features[constant_features['Perc'] > 98]['Var'].tolist()\n",
    "    \n",
    "    # remove constant features\n",
    "    df.drop(columns = constant_features, inplace=True)\n",
    "    \n",
    "    print(\"constant features dropped\")\n",
    "    return df"
   ]
  },
  {
   "cell_type": "markdown",
   "id": "4a92f8a2",
   "metadata": {},
   "source": [
    "## 5.3. CORRELATED"
   ]
  },
  {
   "cell_type": "code",
   "execution_count": 18,
   "id": "b6d9be25",
   "metadata": {},
   "outputs": [],
   "source": [
    "def drop_correlated_features(df):\n",
    "    # calculate correlation\n",
    "    corr = df.corr(method=\"spearman\").abs()\n",
    "    \n",
    "    # retrieve correlation data\n",
    "    upper_triangle = corr.where(np.triu(np.ones(corr.shape), k=1).astype(bool))\n",
    "    \n",
    "    # retrieve highly correlated features' names\n",
    "    corr_features = []\n",
    "    for col in upper_triangle:\n",
    "        if any(upper_triangle[col] > 0.8): \n",
    "            corr_features.append(col)\n",
    "\n",
    "    # remove correlated features\n",
    "    corr_features = pd.Series(corr_features)\n",
    "    df.drop(columns = corr_features, inplace=True)\n",
    "    \n",
    "    print(\"correlated features dropped\")\n",
    "    return df"
   ]
  },
  {
   "cell_type": "markdown",
   "id": "f8397932",
   "metadata": {},
   "source": [
    "# 6. MODELS "
   ]
  },
  {
   "cell_type": "markdown",
   "id": "d04729ac",
   "metadata": {},
   "source": [
    "## 6.1. PREPARE"
   ]
  },
  {
   "cell_type": "code",
   "execution_count": 19,
   "id": "e5c8f931",
   "metadata": {},
   "outputs": [],
   "source": [
    "from sklearn.preprocessing import FunctionTransformer\n",
    "from sklearn.pipeline import Pipeline\n",
    "\n",
    "nan_handler_transf = FunctionTransformer(nan_handler)\n",
    "outliers_handler_transf = FunctionTransformer(outliers_handler)\n",
    "standarization_handler_transf = FunctionTransformer(standarization_handler)\n",
    "drop_duplicate_features_transf = FunctionTransformer(drop_duplicate_features)\n",
    "drop_constant_features_transf = FunctionTransformer(drop_constant_features)\n",
    "drop_correlated_features_transf = FunctionTransformer(drop_correlated_features)\n",
    "\n",
    "prepare = Pipeline([\n",
    "    (\"nan_handling\", nan_handler_transf),\n",
    "    (\"outliers_handling\", outliers_handler_transf),\n",
    "    (\"standarization_handling\", standarization_handler_transf),\n",
    "    (\"dropping_duplicate_features\", drop_duplicate_features_transf),\n",
    "    (\"dropping_constant_features\", drop_constant_features_transf),\n",
    "    (\"dropping_correlated_features\", drop_correlated_features_transf)\n",
    "])"
   ]
  },
  {
   "cell_type": "code",
   "execution_count": 20,
   "id": "03616a96",
   "metadata": {},
   "outputs": [],
   "source": [
    "def prepare_dataset(df, consistent_cols = []):\n",
    "    df = nan_handler(df)\n",
    "    df = outliers_handler(df)\n",
    "    df = standarization_handler(df)\n",
    "    \n",
    "    if len(consistent_cols) == 0:\n",
    "        df = drop_duplicate_features(df)\n",
    "        df = drop_constant_features(df)\n",
    "        df = drop_correlated_features(df)\n",
    "    else:\n",
    "        to_drop = filter(lambda i: i not in consistent_cols, df.columns)\n",
    "        df.drop(columns = list(to_drop), inplace=True)\n",
    "        print(\"columns consistent\")\n",
    "    \n",
    "    return df"
   ]
  },
  {
   "cell_type": "code",
   "execution_count": 21,
   "id": "036f1f3b",
   "metadata": {},
   "outputs": [
    {
     "name": "stdout",
     "output_type": "stream",
     "text": [
      "NAs handled\n",
      "outliers handled\n",
      "standarization handled\n",
      "duplicate features dropped\n",
      "constant features dropped\n",
      "correlated features dropped\n",
      "NAs handled\n",
      "outliers handled\n",
      "standarization handled\n",
      "columns consistent\n",
      "NAs handled\n",
      "outliers handled\n",
      "standarization handled\n",
      "columns consistent\n"
     ]
    }
   ],
   "source": [
    "if False:\n",
    "    X_train = prepare.fit_transform(X_train)\n",
    "    X_val = prepare.transform(X_val)\n",
    "    X_test = prepare.transform(X_test)\n",
    "else:\n",
    "    X_train = prepare_dataset(X_train)\n",
    "    X_val = prepare_dataset(X_val, X_train.columns)\n",
    "    X_test = prepare_dataset(X_test, X_train.columns)"
   ]
  },
  {
   "cell_type": "code",
   "execution_count": 22,
   "id": "4433f7b7",
   "metadata": {},
   "outputs": [
    {
     "data": {
      "text/plain": [
       "(35000, 34)"
      ]
     },
     "execution_count": 22,
     "metadata": {},
     "output_type": "execute_result"
    }
   ],
   "source": [
    "X_train.shape"
   ]
  },
  {
   "cell_type": "code",
   "execution_count": 23,
   "id": "8ed739c5",
   "metadata": {},
   "outputs": [
    {
     "data": {
      "text/plain": [
       "(4500, 34)"
      ]
     },
     "execution_count": 23,
     "metadata": {},
     "output_type": "execute_result"
    }
   ],
   "source": [
    "X_val.shape"
   ]
  },
  {
   "cell_type": "markdown",
   "id": "d617c8ac",
   "metadata": {},
   "source": [
    "## 6.2 EVALUATING MODELS"
   ]
  },
  {
   "cell_type": "code",
   "execution_count": 24,
   "id": "4b2c6ae2",
   "metadata": {},
   "outputs": [],
   "source": [
    "def model_evaluation(model, X_df, y_df):\n",
    "    y_pred_proba = model.predict_proba(X_df)\n",
    "    y_pred = model.predict(X_df)\n",
    "    # roc curve for models\n",
    "    fpr_model, tpr_model, thresh_model = roc_curve(y_df, y_pred_proba[:,1], pos_label=1)\n",
    "\n",
    "    # roc curve for tpr = fpr \n",
    "    random_probs = [0 for i in range(len(y_df))]\n",
    "    p_fpr, p_tpr, _ = roc_curve(y_df, random_probs, pos_label=1)\n",
    "\n",
    "    plt.style.use('seaborn')\n",
    "\n",
    "    # plot roc curves\n",
    "    plt.plot(fpr_model, tpr_model, linestyle='--',color='orange')\n",
    "    plt.plot(p_fpr, p_tpr, linestyle='--', color='blue')\n",
    "    # title\n",
    "    plt.title('ROC curve')\n",
    "    # x label\n",
    "    plt.xlabel('False Positive Rate')\n",
    "    # y label\n",
    "    plt.ylabel('True Positive rate')\n",
    "\n",
    "    plt.legend(loc='best')\n",
    "    plt.savefig('ROC',dpi=300)\n",
    "    plt.show();\n",
    "    \n",
    "    # auc scores\n",
    "    auc_score_model = roc_auc_score(y_df, y_pred_proba[:,1])\n",
    "\n",
    "    print(\"Classification report: \", \"\\n\" , classification_report(y_df, y_pred))\n",
    "    print(\"Random Forest Score: \", model.score(X_df,y_df))\n",
    "    print(\"AUC score: \", auc_score_model)\n",
    "    \n",
    "    ConfusionMatrixDisplay.from_estimator(model, X_df, y_df)\n",
    "    plt.show()\n",
    "    \n",
    "    return {\"model\": model, \"auc\": auc_score_model}\n",
    "\n",
    "auc_scores = []"
   ]
  },
  {
   "cell_type": "markdown",
   "id": "a5f84441",
   "metadata": {},
   "source": [
    "### 6.2.1. K Neighbors model"
   ]
  },
  {
   "cell_type": "code",
   "execution_count": 25,
   "id": "0a078358",
   "metadata": {},
   "outputs": [
    {
     "data": {
      "text/plain": [
       "KNeighborsClassifier(n_neighbors=4)"
      ]
     },
     "execution_count": 25,
     "metadata": {},
     "output_type": "execute_result"
    }
   ],
   "source": [
    "from sklearn.neighbors import KNeighborsClassifier\n",
    "\n",
    "KN_model = KNeighborsClassifier(n_neighbors=4)\n",
    "KN_model.fit(X_train, y_train)"
   ]
  },
  {
   "cell_type": "markdown",
   "id": "2816c262",
   "metadata": {},
   "source": [
    "### EVALUATION"
   ]
  },
  {
   "cell_type": "code",
   "execution_count": 26,
   "id": "022a1677",
   "metadata": {
    "scrolled": false
   },
   "outputs": [
    {
     "name": "stderr",
     "output_type": "stream",
     "text": [
      "F:\\Anaconda\\lib\\site-packages\\sklearn\\neighbors\\_classification.py:228: FutureWarning: Unlike other reduction functions (e.g. `skew`, `kurtosis`), the default behavior of `mode` typically preserves the axis it acts along. In SciPy 1.11.0, this behavior will change: the default value of `keepdims` will become False, the `axis` over which the statistic is taken will be eliminated, and the value None will no longer be accepted. Set `keepdims` to True or False to avoid this warning.\n",
      "  mode, _ = stats.mode(_y[neigh_ind, k], axis=1)\n",
      "No artists with labels found to put in legend.  Note that artists whose label start with an underscore are ignored when legend() is called with no argument.\n"
     ]
    },
    {
     "data": {
      "image/png": "[encoded data removed]",
      "text/plain": [
       "<Figure size 800x550 with 1 Axes>"
      ]
     },
     "metadata": {},
     "output_type": "display_data"
    },
    {
     "name": "stdout",
     "output_type": "stream",
     "text": [
      "Classification report:  \n",
      "               precision    recall  f1-score   support\n",
      "\n",
      "           0       0.96      1.00      0.98      4321\n",
      "           1       0.10      0.01      0.01       179\n",
      "\n",
      "    accuracy                           0.96      4500\n",
      "   macro avg       0.53      0.50      0.49      4500\n",
      "weighted avg       0.93      0.96      0.94      4500\n",
      "\n"
     ]
    },
    {
     "name": "stderr",
     "output_type": "stream",
     "text": [
      "F:\\Anaconda\\lib\\site-packages\\sklearn\\neighbors\\_classification.py:228: FutureWarning: Unlike other reduction functions (e.g. `skew`, `kurtosis`), the default behavior of `mode` typically preserves the axis it acts along. In SciPy 1.11.0, this behavior will change: the default value of `keepdims` will become False, the `axis` over which the statistic is taken will be eliminated, and the value None will no longer be accepted. Set `keepdims` to True or False to avoid this warning.\n",
      "  mode, _ = stats.mode(_y[neigh_ind, k], axis=1)\n"
     ]
    },
    {
     "name": "stdout",
     "output_type": "stream",
     "text": [
      "Random Forest Score:  0.9584444444444444\n",
      "AUC score:  0.6459392159118971\n"
     ]
    },
    {
     "name": "stderr",
     "output_type": "stream",
     "text": [
      "F:\\Anaconda\\lib\\site-packages\\sklearn\\neighbors\\_classification.py:228: FutureWarning: Unlike other reduction functions (e.g. `skew`, `kurtosis`), the default behavior of `mode` typically preserves the axis it acts along. In SciPy 1.11.0, this behavior will change: the default value of `keepdims` will become False, the `axis` over which the statistic is taken will be eliminated, and the value None will no longer be accepted. Set `keepdims` to True or False to avoid this warning.\n",
      "  mode, _ = stats.mode(_y[neigh_ind, k], axis=1)\n"
     ]
    },
    {
     "data": {
      "image/png": "[encoded data removed]",
      "text/plain": [
       "<Figure size 800x550 with 2 Axes>"
      ]
     },
     "metadata": {},
     "output_type": "display_data"
    }
   ],
   "source": [
    "auc_scores.append(model_evaluation(KN_model, X_val, y_val))"
   ]
  },
  {
   "cell_type": "markdown",
   "id": "6286d70d",
   "metadata": {},
   "source": [
    "### 6.2.2. Logistic Regression model"
   ]
  },
  {
   "cell_type": "code",
   "execution_count": 27,
   "id": "e0834f94",
   "metadata": {},
   "outputs": [
    {
     "data": {
      "text/plain": [
       "LogisticRegression()"
      ]
     },
     "execution_count": 27,
     "metadata": {},
     "output_type": "execute_result"
    }
   ],
   "source": [
    "from sklearn.linear_model import LogisticRegression\n",
    "\n",
    "LR_model = LogisticRegression()\n",
    "LR_model.fit(X_train, y_train)"
   ]
  },
  {
   "cell_type": "markdown",
   "id": "86bddb6c",
   "metadata": {},
   "source": [
    "### EVALUATION"
   ]
  },
  {
   "cell_type": "code",
   "execution_count": 28,
   "id": "833aca31",
   "metadata": {},
   "outputs": [
    {
     "name": "stderr",
     "output_type": "stream",
     "text": [
      "No artists with labels found to put in legend.  Note that artists whose label start with an underscore are ignored when legend() is called with no argument.\n"
     ]
    },
    {
     "data": {
      "image/png": "[encoded data removed]",
      "text/plain": [
       "<Figure size 800x550 with 1 Axes>"
      ]
     },
     "metadata": {},
     "output_type": "display_data"
    },
    {
     "name": "stdout",
     "output_type": "stream",
     "text": [
      "Classification report:  \n",
      "               precision    recall  f1-score   support\n",
      "\n",
      "           0       0.96      1.00      0.98      4321\n",
      "           1       0.00      0.00      0.00       179\n",
      "\n",
      "    accuracy                           0.96      4500\n",
      "   macro avg       0.48      0.50      0.49      4500\n",
      "weighted avg       0.92      0.96      0.94      4500\n",
      "\n",
      "Random Forest Score:  0.9597777777777777\n",
      "AUC score:  0.8106790405179848\n"
     ]
    },
    {
     "data": {
      "image/png": "[encoded data removed]",
      "text/plain": [
       "<Figure size 800x550 with 2 Axes>"
      ]
     },
     "metadata": {},
     "output_type": "display_data"
    }
   ],
   "source": [
    "auc_scores.append(model_evaluation(LR_model, X_val, y_val))"
   ]
  },
  {
   "cell_type": "markdown",
   "id": "b572c319",
   "metadata": {},
   "source": [
    "### 6.2.3. Random Forest model"
   ]
  },
  {
   "cell_type": "code",
   "execution_count": 29,
   "id": "c185353b",
   "metadata": {},
   "outputs": [],
   "source": [
    "from mlxtend.feature_selection import SequentialFeatureSelector as SFS\n",
    "from sklearn.ensemble import RandomForestClassifier\n",
    "from sklearn.metrics import classification_report"
   ]
  },
  {
   "cell_type": "code",
   "execution_count": 30,
   "id": "fc60c2f8",
   "metadata": {},
   "outputs": [
    {
     "data": {
      "text/plain": [
       "RandomForestClassifier(n_jobs=2)"
      ]
     },
     "execution_count": 30,
     "metadata": {},
     "output_type": "execute_result"
    }
   ],
   "source": [
    "rf_model = RandomForestClassifier(n_estimators=100, n_jobs=2)\n",
    "rf_model.fit(X_train, y_train)"
   ]
  },
  {
   "cell_type": "markdown",
   "id": "5d2eaaf2",
   "metadata": {},
   "source": [
    "### EVALUATION"
   ]
  },
  {
   "cell_type": "code",
   "execution_count": 31,
   "id": "161c45ee",
   "metadata": {},
   "outputs": [
    {
     "name": "stderr",
     "output_type": "stream",
     "text": [
      "No artists with labels found to put in legend.  Note that artists whose label start with an underscore are ignored when legend() is called with no argument.\n"
     ]
    },
    {
     "data": {
      "image/png": "[encoded data removed]",
      "text/plain": [
       "<Figure size 800x550 with 1 Axes>"
      ]
     },
     "metadata": {},
     "output_type": "display_data"
    },
    {
     "name": "stderr",
     "output_type": "stream",
     "text": [
      "F:\\Anaconda\\lib\\site-packages\\sklearn\\metrics\\_classification.py:1318: UndefinedMetricWarning: Precision and F-score are ill-defined and being set to 0.0 in labels with no predicted samples. Use `zero_division` parameter to control this behavior.\n",
      "  _warn_prf(average, modifier, msg_start, len(result))\n",
      "F:\\Anaconda\\lib\\site-packages\\sklearn\\metrics\\_classification.py:1318: UndefinedMetricWarning: Precision and F-score are ill-defined and being set to 0.0 in labels with no predicted samples. Use `zero_division` parameter to control this behavior.\n",
      "  _warn_prf(average, modifier, msg_start, len(result))\n",
      "F:\\Anaconda\\lib\\site-packages\\sklearn\\metrics\\_classification.py:1318: UndefinedMetricWarning: Precision and F-score are ill-defined and being set to 0.0 in labels with no predicted samples. Use `zero_division` parameter to control this behavior.\n",
      "  _warn_prf(average, modifier, msg_start, len(result))\n"
     ]
    },
    {
     "name": "stdout",
     "output_type": "stream",
     "text": [
      "Classification report:  \n",
      "               precision    recall  f1-score   support\n",
      "\n",
      "           0       0.96      1.00      0.98      4321\n",
      "           1       0.00      0.00      0.00       179\n",
      "\n",
      "    accuracy                           0.96      4500\n",
      "   macro avg       0.48      0.50      0.49      4500\n",
      "weighted avg       0.92      0.96      0.94      4500\n",
      "\n",
      "Random Forest Score:  0.9602222222222222\n",
      "AUC score:  0.7927588921972594\n"
     ]
    },
    {
     "data": {
      "image/png": "[encoded data removed]",
      "text/plain": [
       "<Figure size 800x550 with 2 Axes>"
      ]
     },
     "metadata": {},
     "output_type": "display_data"
    }
   ],
   "source": [
    "auc_scores.append(model_evaluation(rf_model, X_val, y_val))"
   ]
  },
  {
   "cell_type": "markdown",
   "id": "592bc7dd",
   "metadata": {},
   "source": [
    "### VERIFYING FEATURE IMPORTANCE IN RANDOM FOREST MODEL"
   ]
  },
  {
   "cell_type": "code",
   "execution_count": 32,
   "id": "76a40b5d",
   "metadata": {},
   "outputs": [
    {
     "data": {
      "text/plain": [
       "RandomForestClassifier(random_state=42)"
      ]
     },
     "execution_count": 32,
     "metadata": {},
     "output_type": "execute_result"
    }
   ],
   "source": [
    "# Get feature importances and sort them in descending order\n",
    "importances = rf_model.feature_importances_\n",
    "sorted_indices = importances.argsort()[::-1]\n",
    "columns = X_train.columns\n",
    "\n",
    "# Identify non-predictive columns\n",
    "non_predictive_cols = []\n",
    "for i in sorted_indices:\n",
    "    if importances[i] < 0.05:\n",
    "        non_predictive_cols.append(columns[i])\n",
    "        \n",
    "# Remove non-predictive columns\n",
    "reduced_X_train = X_train.drop(columns=non_predictive_cols)\n",
    "\n",
    "# Train a new random forest classifier on the reduced dataset\n",
    "rf_model_reduced = RandomForestClassifier(n_estimators=100, random_state=42)\n",
    "rf_model_reduced.fit(reduced_X_train, y_train)"
   ]
  },
  {
   "cell_type": "markdown",
   "id": "42f51829",
   "metadata": {},
   "source": [
    "### 2ND EVALUATION OF RANDOM FOREST MODEL"
   ]
  },
  {
   "cell_type": "code",
   "execution_count": 33,
   "id": "c22fa803",
   "metadata": {
    "scrolled": false
   },
   "outputs": [
    {
     "name": "stderr",
     "output_type": "stream",
     "text": [
      "No artists with labels found to put in legend.  Note that artists whose label start with an underscore are ignored when legend() is called with no argument.\n"
     ]
    },
    {
     "data": {
      "image/png": "[encoded data removed]",
      "text/plain": [
       "<Figure size 800x550 with 1 Axes>"
      ]
     },
     "metadata": {},
     "output_type": "display_data"
    },
    {
     "name": "stdout",
     "output_type": "stream",
     "text": [
      "Classification report:  \n",
      "               precision    recall  f1-score   support\n",
      "\n",
      "           0       0.96      1.00      0.98      4321\n",
      "           1       0.11      0.01      0.02       179\n",
      "\n",
      "    accuracy                           0.96      4500\n",
      "   macro avg       0.54      0.50      0.50      4500\n",
      "weighted avg       0.93      0.96      0.94      4500\n",
      "\n",
      "Random Forest Score:  0.9571111111111111\n",
      "AUC score:  0.6501850776834972\n"
     ]
    },
    {
     "data": {
      "image/png": "[encoded data removed]",
      "text/plain": [
       "<Figure size 800x550 with 2 Axes>"
      ]
     },
     "metadata": {},
     "output_type": "display_data"
    }
   ],
   "source": [
    "reduced_X_val = X_val.drop(non_predictive_cols, axis=1)\n",
    "\n",
    "auc_scores.append(model_evaluation(rf_model_reduced, reduced_X_val, y_val))"
   ]
  },
  {
   "cell_type": "markdown",
   "id": "f9747e95",
   "metadata": {},
   "source": [
    "### 6.2.4. Gradient Boosting model"
   ]
  },
  {
   "cell_type": "code",
   "execution_count": 34,
   "id": "3eae9398",
   "metadata": {},
   "outputs": [],
   "source": [
    "from sklearn.ensemble import GradientBoostingClassifier\n",
    "from sklearn.datasets import make_classification"
   ]
  },
  {
   "cell_type": "code",
   "execution_count": 35,
   "id": "1cc834b7",
   "metadata": {
    "scrolled": true
   },
   "outputs": [
    {
     "data": {
      "text/plain": [
       "GradientBoostingClassifier(random_state=42)"
      ]
     },
     "execution_count": 35,
     "metadata": {},
     "output_type": "execute_result"
    }
   ],
   "source": [
    "# train a Gradient Boosting classifier\n",
    "GB_clf = GradientBoostingClassifier(random_state=42)\n",
    "GB_clf.fit(X_train, y_train)"
   ]
  },
  {
   "cell_type": "markdown",
   "id": "3a2f0279",
   "metadata": {},
   "source": [
    "### EVALUATION"
   ]
  },
  {
   "cell_type": "code",
   "execution_count": 36,
   "id": "1349bc47",
   "metadata": {},
   "outputs": [
    {
     "name": "stderr",
     "output_type": "stream",
     "text": [
      "No artists with labels found to put in legend.  Note that artists whose label start with an underscore are ignored when legend() is called with no argument.\n"
     ]
    },
    {
     "data": {
      "image/png": "[encoded data removed]",
      "text/plain": [
       "<Figure size 800x550 with 1 Axes>"
      ]
     },
     "metadata": {},
     "output_type": "display_data"
    },
    {
     "name": "stdout",
     "output_type": "stream",
     "text": [
      "Classification report:  \n",
      "               precision    recall  f1-score   support\n",
      "\n",
      "           0       0.96      1.00      0.98      4321\n",
      "           1       0.00      0.00      0.00       179\n",
      "\n",
      "    accuracy                           0.96      4500\n",
      "   macro avg       0.48      0.50      0.49      4500\n",
      "weighted avg       0.92      0.96      0.94      4500\n",
      "\n",
      "Random Forest Score:  0.9597777777777777\n",
      "AUC score:  0.8068824591865891\n"
     ]
    },
    {
     "data": {
      "image/png": "[encoded data removed]",
      "text/plain": [
       "<Figure size 800x550 with 2 Axes>"
      ]
     },
     "metadata": {},
     "output_type": "display_data"
    }
   ],
   "source": [
    "auc_scores.append(model_evaluation(GB_clf, X_val, y_val))"
   ]
  },
  {
   "cell_type": "markdown",
   "id": "3060d210",
   "metadata": {},
   "source": [
    "### 6.2.5. XGBoost model"
   ]
  },
  {
   "cell_type": "code",
   "execution_count": 37,
   "id": "2cff1376",
   "metadata": {},
   "outputs": [
    {
     "data": {
      "text/plain": [
       "XGBClassifier(base_score=None, booster=None, callbacks=None,\n",
       "              colsample_bylevel=None, colsample_bynode=None,\n",
       "              colsample_bytree=None, early_stopping_rounds=None,\n",
       "              enable_categorical=False, eval_metric=None, feature_types=None,\n",
       "              gamma=None, gpu_id=None, grow_policy=None, importance_type=None,\n",
       "              interaction_constraints=None, learning_rate=None, max_bin=None,\n",
       "              max_cat_threshold=None, max_cat_to_onehot=None,\n",
       "              max_delta_step=None, max_depth=None, max_leaves=None,\n",
       "              min_child_weight=None, missing=nan, monotone_constraints=None,\n",
       "              n_estimators=100, n_jobs=None, num_parallel_tree=None,\n",
       "              predictor=None, random_state=42, ...)"
      ]
     },
     "execution_count": 37,
     "metadata": {},
     "output_type": "execute_result"
    }
   ],
   "source": [
    "from xgboost import XGBClassifier\n",
    "from sklearn.datasets import make_classification\n",
    "\n",
    "# train an XGBoost classifier\n",
    "XGB_model = XGBClassifier(random_state=42)\n",
    "XGB_model.fit(X_train, y_train)"
   ]
  },
  {
   "cell_type": "markdown",
   "id": "2517a08c",
   "metadata": {},
   "source": [
    "### EVALUATION"
   ]
  },
  {
   "cell_type": "code",
   "execution_count": 38,
   "id": "58d2aae1",
   "metadata": {},
   "outputs": [
    {
     "name": "stderr",
     "output_type": "stream",
     "text": [
      "No artists with labels found to put in legend.  Note that artists whose label start with an underscore are ignored when legend() is called with no argument.\n"
     ]
    },
    {
     "data": {
      "image/png": "[encoded data removed]",
      "text/plain": [
       "<Figure size 800x550 with 1 Axes>"
      ]
     },
     "metadata": {},
     "output_type": "display_data"
    },
    {
     "name": "stdout",
     "output_type": "stream",
     "text": [
      "Classification report:  \n",
      "               precision    recall  f1-score   support\n",
      "\n",
      "           0       0.96      1.00      0.98      4321\n",
      "           1       0.00      0.00      0.00       179\n",
      "\n",
      "    accuracy                           0.96      4500\n",
      "   macro avg       0.48      0.50      0.49      4500\n",
      "weighted avg       0.92      0.96      0.94      4500\n",
      "\n",
      "Random Forest Score:  0.9597777777777777\n",
      "AUC score:  0.7973098768001923\n"
     ]
    },
    {
     "data": {
      "image/png": "[encoded data removed]",
      "text/plain": [
       "<Figure size 800x550 with 2 Axes>"
      ]
     },
     "metadata": {},
     "output_type": "display_data"
    }
   ],
   "source": [
    "auc_scores.append(model_evaluation(XGB_model, X_val, y_val))"
   ]
  },
  {
   "cell_type": "markdown",
   "id": "92395082",
   "metadata": {},
   "source": [
    "## 6.3. Hyperparameters tuning"
   ]
  },
  {
   "cell_type": "code",
   "execution_count": 39,
   "id": "9d2beaa8",
   "metadata": {},
   "outputs": [],
   "source": [
    "from sklearn.model_selection import GridSearchCV\n",
    "from sklearn.model_selection import RandomizedSearchCV\n",
    "from sklearn.model_selection import cross_val_score"
   ]
  },
  {
   "cell_type": "code",
   "execution_count": 40,
   "id": "62e7da80",
   "metadata": {},
   "outputs": [
    {
     "data": {
      "text/plain": [
       "[{'model': KNeighborsClassifier(n_neighbors=4), 'auc': 0.6459392159118971},\n",
       " {'model': RandomForestClassifier(random_state=42), 'auc': 0.6501850776834972},\n",
       " {'model': RandomForestClassifier(n_jobs=2), 'auc': 0.7927588921972594},\n",
       " {'model': XGBClassifier(base_score=None, booster=None, callbacks=None,\n",
       "                colsample_bylevel=None, colsample_bynode=None,\n",
       "                colsample_bytree=None, early_stopping_rounds=None,\n",
       "                enable_categorical=False, eval_metric=None, feature_types=None,\n",
       "                gamma=None, gpu_id=None, grow_policy=None, importance_type=None,\n",
       "                interaction_constraints=None, learning_rate=None, max_bin=None,\n",
       "                max_cat_threshold=None, max_cat_to_onehot=None,\n",
       "                max_delta_step=None, max_depth=None, max_leaves=None,\n",
       "                min_child_weight=None, missing=nan, monotone_constraints=None,\n",
       "                n_estimators=100, n_jobs=None, num_parallel_tree=None,\n",
       "                predictor=None, random_state=42, ...),\n",
       "  'auc': 0.7973098768001923},\n",
       " {'model': GradientBoostingClassifier(random_state=42),\n",
       "  'auc': 0.8068824591865891},\n",
       " {'model': LogisticRegression(), 'auc': 0.8106790405179848}]"
      ]
     },
     "execution_count": 40,
     "metadata": {},
     "output_type": "execute_result"
    }
   ],
   "source": [
    "sorted(auc_scores, key=lambda x: x[\"auc\"])"
   ]
  },
  {
   "cell_type": "markdown",
   "id": "5c454642",
   "metadata": {},
   "source": [
    "Based on auc value we select LogisticRegression model as the best one"
   ]
  },
  {
   "cell_type": "code",
   "execution_count": 41,
   "id": "d7f2c525",
   "metadata": {},
   "outputs": [
    {
     "name": "stdout",
     "output_type": "stream",
     "text": [
      "Current parameters:\n",
      "{'C': 1.0, 'class_weight': None, 'dual': False, 'fit_intercept': True, 'intercept_scaling': 1, 'l1_ratio': None, 'max_iter': 100, 'multi_class': 'auto', 'n_jobs': None, 'penalty': 'l2', 'random_state': None, 'solver': 'lbfgs', 'tol': 0.0001, 'verbose': 0, 'warm_start': False}\n"
     ]
    }
   ],
   "source": [
    "print('Current parameters:')\n",
    "print(LR_model.get_params())"
   ]
  },
  {
   "cell_type": "code",
   "execution_count": 42,
   "id": "ba9878d1",
   "metadata": {},
   "outputs": [],
   "source": [
    "LR_model = LogisticRegression()\n",
    "\n",
    "solver = [\"lbfgs\", \"liblinear\", \"saga\"]\n",
    "max_iter = [50, 100, 200]\n",
    "verbose = [*range(0, 50, 10)]\n",
    "param_grid = dict(solver=solver, max_iter=max_iter, verbose=verbose)"
   ]
  },
  {
   "cell_type": "markdown",
   "id": "087e514b",
   "metadata": {},
   "source": [
    "### 6.3.1. GridSearchCV"
   ]
  },
  {
   "cell_type": "code",
   "execution_count": 43,
   "id": "0f4528a5",
   "metadata": {
    "scrolled": false
   },
   "outputs": [
    {
     "name": "stdout",
     "output_type": "stream",
     "text": [
      "Best: 0.9601428570777824 using {'max_iter': 50, 'solver': 'lbfgs', 'verbose': 0}\n"
     ]
    },
    {
     "name": "stderr",
     "output_type": "stream",
     "text": [
      "F:\\Anaconda\\lib\\site-packages\\sklearn\\linear_model\\_logistic.py:814: ConvergenceWarning: lbfgs failed to converge (status=1):\n",
      "STOP: TOTAL NO. of ITERATIONS REACHED LIMIT.\n",
      "\n",
      "Increase the number of iterations (max_iter) or scale the data as shown in:\n",
      "    https://scikit-learn.org/stable/modules/preprocessing.html\n",
      "Please also refer to the documentation for alternative solver options:\n",
      "    https://scikit-learn.org/stable/modules/linear_model.html#logistic-regression\n",
      "  n_iter_i = _check_optimize_result(\n"
     ]
    }
   ],
   "source": [
    "grid = GridSearchCV(estimator=LR_model, param_grid=param_grid, cv=3, n_jobs=-1)\n",
    "\n",
    "grid_result = grid.fit(X_train, y_train)\n",
    "\n",
    "print(f\"Best: {grid_result.best_score_} using {grid_result.best_params_}\")"
   ]
  },
  {
   "cell_type": "code",
   "execution_count": 44,
   "id": "250da8ec",
   "metadata": {},
   "outputs": [
    {
     "data": {
      "text/plain": [
       "0.9598095238095238"
      ]
     },
     "execution_count": 44,
     "metadata": {},
     "output_type": "execute_result"
    }
   ],
   "source": [
    "best_model_grid = grid_result.best_estimator_\n",
    "best_model_grid.score(X_test, y_test)"
   ]
  },
  {
   "cell_type": "markdown",
   "id": "9329c0da",
   "metadata": {},
   "source": [
    "### 6.3.2. RandomizedSearchCV"
   ]
  },
  {
   "cell_type": "code",
   "execution_count": 45,
   "id": "821755b1",
   "metadata": {},
   "outputs": [
    {
     "name": "stdout",
     "output_type": "stream",
     "text": [
      "[LibLinear]Best: 0.960143 using {'verbose': 10, 'solver': 'liblinear', 'max_iter': 50}\n"
     ]
    }
   ],
   "source": [
    "random = RandomizedSearchCV(estimator=LR_model, param_distributions=param_grid, cv = 3, n_jobs=-1)\n",
    "\n",
    "random_result = random.fit(X_train, y_train)\n",
    "\n",
    "print(\"Best: %f using %s\" % (random_result.best_score_, random_result.best_params_))"
   ]
  },
  {
   "cell_type": "code",
   "execution_count": 46,
   "id": "ce482d83",
   "metadata": {},
   "outputs": [
    {
     "data": {
      "text/plain": [
       "0.9598095238095238"
      ]
     },
     "execution_count": 46,
     "metadata": {},
     "output_type": "execute_result"
    }
   ],
   "source": [
    "best_model_random = random_result.best_estimator_\n",
    "best_model_random.score(X_test, y_test)"
   ]
  },
  {
   "cell_type": "markdown",
   "id": "f54dab2e",
   "metadata": {},
   "source": [
    "# 7. SUMMARY"
   ]
  },
  {
   "cell_type": "markdown",
   "id": "78444800",
   "metadata": {},
   "source": [
    "In the end LogisticRegression model turned out to be the best one. After some experimentation with hyperparameters tuning the most optimal hyperparameters are verbose=10, solver=saga, max_iter=100 which were retrieved using RandomSearchCV method, whilst GridSearchCV method was very close to the same result with hyperparameters max_iter=50, solver=lbfgs, verbose=0."
   ]
  },
  {
   "cell_type": "markdown",
   "id": "6b3c62dd",
   "metadata": {},
   "source": [
    "# EXPORTING"
   ]
  },
  {
   "cell_type": "code",
   "execution_count": 47,
   "id": "4c21068e",
   "metadata": {},
   "outputs": [],
   "source": [
    "# exporting preprocessed dataset to csv\n",
    "relative_path = \"../data/preprocessed\"\n",
    "\n",
    "if not os.path.exists(relative_path):\n",
    "    os.makedirs(relative_path)\n",
    "    \n",
    "X_train.to_csv(relative_path + '/train_dataset.csv', encoding='utf-8')"
   ]
  }
 ],
 "metadata": {
  "kernelspec": {
   "display_name": "Python 3 (ipykernel)",
   "language": "python",
   "name": "python3"
  },
  "language_info": {
   "codemirror_mode": {
    "name": "ipython",
    "version": 3
   },
   "file_extension": ".py",
   "mimetype": "text/x-python",
   "name": "python",
   "nbconvert_exporter": "python",
   "pygments_lexer": "ipython3",
   "version": "3.9.13"
  }
 },
 "nbformat": 4,
 "nbformat_minor": 5
}
